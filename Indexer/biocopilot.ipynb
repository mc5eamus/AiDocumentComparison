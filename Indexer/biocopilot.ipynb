{
  "cells": [
    {
      "cell_type": "code",
      "execution_count": null,
      "metadata": {
        "jupyter": {
          "outputs_hidden": false,
          "source_hidden": false
        },
        "nteract": {
          "transient": {
            "deleting": false
          }
        }
      },
      "outputs": [],
      "source": [
        "%pip install openai\n",
        "%pip install azure-ai-formrecognizer==3.3.0\n",
        "%pip install azure-search-documents==11.4.0b11\n"
      ]
    },
    {
      "cell_type": "code",
      "execution_count": null,
      "metadata": {
        "gather": {
          "logged": 1697526272445
        },
        "jupyter": {
          "outputs_hidden": false,
          "source_hidden": false
        },
        "nteract": {
          "transient": {
            "deleting": false
          }
        }
      },
      "outputs": [],
      "source": [
        "import re\n",
        "import json\n",
        "import openai\n",
        "from azure.ai.formrecognizer import DocumentAnalysisClient\n",
        "from azure.core.credentials import AzureKeyCredential\n",
        "from azure.search.documents import SearchClient  \n"
      ]
    },
    {
      "cell_type": "code",
      "execution_count": null,
      "metadata": {
        "jupyter": {
          "outputs_hidden": false,
          "source_hidden": false
        },
        "nteract": {
          "transient": {
            "deleting": false
          }
        }
      },
      "outputs": [],
      "source": [
        "OPENAI_ENDPOINT = \"https://[youropenai].openai.azure.com/\"\n",
        "OPENAI_APIKEY = \"\"\n",
        "OPENAI_EMBEDDINGS_DEPLOYMENT = \"text-embedding-ada-002\"\n",
        "\n",
        "SERACH_ENDPOINT=\"https://[yoursearch].search.windows.net\"\n",
        "SEARCH_APIKEY = \"\"\n",
        "SEARCH_INDEX = \"document-comparison\"\n",
        "\n",
        "FORMRECOGNIZER_ENDPOINT = \"https://[yourcognitiveservice].cognitiveservices.azure.com/\"\n",
        "FORMRECOGNIZER_APIKEY = \"\""
      ]
    },
    {
      "cell_type": "markdown",
      "metadata": {
        "nteract": {
          "transient": {
            "deleting": false
          }
        }
      },
      "source": [
        "we're using key credentials here, but feel free to utilize other methods such as logged in user identity"
      ]
    },
    {
      "cell_type": "code",
      "execution_count": null,
      "metadata": {
        "jupyter": {
          "outputs_hidden": false,
          "source_hidden": false
        },
        "nteract": {
          "transient": {
            "deleting": false
          }
        }
      },
      "outputs": [],
      "source": [
        "formrecognizer_credentials = AzureKeyCredential(FORMRECOGNIZER_APIKEY)\n",
        "search_credentials = AzureKeyCredential(SEARCH_APIKEY)"
      ]
    },
    {
      "cell_type": "code",
      "execution_count": null,
      "metadata": {
        "jupyter": {
          "outputs_hidden": false,
          "source_hidden": false
        },
        "nteract": {
          "transient": {
            "deleting": false
          }
        }
      },
      "outputs": [],
      "source": [
        "document_analysis_client = DocumentAnalysisClient(endpoint=FORMRECOGNIZER_ENDPOINT, credential=formrecognizer_credentials)\n",
        "search_client = SearchClient(endpoint=SERACH_ENDPOINT, index_name=SEARCH_INDEX, credential=search_credentials)\n",
        "openai.api_type = \"azure\"\n",
        "openai.api_key = OPENAI_APIKEY\n",
        "openai.api_base = OPENAI_ENDPOINT\n",
        "openai.api_version = \"2023-07-01-preview\""
      ]
    },
    {
      "cell_type": "code",
      "execution_count": null,
      "metadata": {
        "gather": {
          "logged": 1697523318149
        },
        "jupyter": {
          "outputs_hidden": false,
          "source_hidden": false
        },
        "nteract": {
          "transient": {
            "deleting": false
          }
        }
      },
      "outputs": [],
      "source": [
        "def get_embeddings(text):\n",
        "    response = openai.Embedding.create(\n",
        "        input=text,\n",
        "        engine=OPENAI_EMBEDDINGS_DEPLOYMENT\n",
        "    )\n",
        "    embeddings = response['data'][0]['embedding']\n",
        "    return embeddings\n",
        "\n",
        "def extract_blocks_from_analysis_result(paragraphs):\n",
        "    blocks = []\n",
        "    current_block = \"\"\n",
        "    has_copytext = False\n",
        "    \n",
        "    for p in paragraphs:\n",
        "        content = p.content\n",
        "        # Check if paragraph starts with a combination of numbers and dots with a trailing space\n",
        "        if re.match(r'^(\\d+(\\.\\d+)*)\\s', content):\n",
        "            # If there's an existing block, add it to blocks list\n",
        "            if has_copytext and len(current_block) > 10:\n",
        "                blocks.append(current_block)\n",
        "                current_block = \"\"\n",
        "            current_block = content + \"\\n\"\n",
        "            has_copytext = False\n",
        "        else:\n",
        "            has_copytext = True\n",
        "            current_block += content + \" \"\n",
        "\n",
        "    # Add any remaining paragraphs to blocks list\n",
        "    if len(current_block)>0:\n",
        "        blocks.append(current_block)\n",
        "\n",
        "    return blocks\n",
        "\n",
        "def index_pdf(name, documentId):\n",
        "    with open(name, \"rb\") as f:\n",
        "        poller = document_analysis_client.begin_analyze_document(\n",
        "            \"prebuilt-layout\", document=f\n",
        "        )\n",
        "    result = poller.result()\n",
        "\n",
        "    blocks = extract_blocks_from_analysis_result(result.paragraphs)\n",
        "    documents = []\n",
        "    idx = 0\n",
        "\n",
        "    for item in blocks:\n",
        "        idx+=1\n",
        "        doc = {\"key\" : f\"{documentId}-{idx:03}\", \"documentId\": documentId, \"chapter\" : item }\n",
        "        content_embeddings = get_embeddings(item)\n",
        "        doc['vector'] = content_embeddings\n",
        "        documents.append(doc)\n",
        "    \n",
        "    print(f\"Uploading documents\") \n",
        "    index_result = search_client.upload_documents(documents)  \n",
        "    print(f\"Uploaded {len(documents)} documents\") \n"
      ]
    },
    {
      "cell_type": "code",
      "execution_count": null,
      "metadata": {
        "gather": {
          "logged": 1697524852746
        },
        "jupyter": {
          "outputs_hidden": false,
          "source_hidden": false
        },
        "nteract": {
          "transient": {
            "deleting": false
          }
        }
      },
      "outputs": [],
      "source": [
        "index_pdf(\"document1.pdf\", \"doc01\")\n",
        "index_pdf(\"document2.pdf\", \"doc02\")"
      ]
    }
  ],
  "metadata": {
    "kernel_info": {
      "name": "python38-jupyter"
    },
    "kernelspec": {
      "display_name": "py39",
      "language": "python",
      "name": "python3"
    },
    "language_info": {
      "codemirror_mode": {
        "name": "ipython",
        "version": 3
      },
      "file_extension": ".py",
      "mimetype": "text/x-python",
      "name": "python",
      "nbconvert_exporter": "python",
      "pygments_lexer": "ipython3",
      "version": "3.9.13"
    },
    "microsoft": {
      "host": {
        "AzureML": {
          "notebookHasBeenCompleted": true
        }
      },
      "ms_spell_check": {
        "ms_spell_check_language": "en"
      }
    },
    "nteract": {
      "version": "nteract-front-end@1.0.0"
    }
  },
  "nbformat": 4,
  "nbformat_minor": 2
}
